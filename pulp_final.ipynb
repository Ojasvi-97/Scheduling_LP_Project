{
 "cells": [
  {
   "cell_type": "code",
   "execution_count": 45,
   "id": "c50f762b",
   "metadata": {},
   "outputs": [],
   "source": [
    "from pulp import *\n",
    "import pandas as pd\n",
    "from itertools import product"
   ]
  },
  {
   "cell_type": "code",
   "execution_count": 46,
   "id": "1136f0c2",
   "metadata": {},
   "outputs": [],
   "source": [
    "df_cases = pd.read_csv(\"cases.csv\")\n",
    "df_sessions = pd.read_csv(\"sessions.csv\")"
   ]
  },
  {
   "cell_type": "code",
   "execution_count": 47,
   "id": "62d0dc56",
   "metadata": {},
   "outputs": [],
   "source": [
    "# Model data\n",
    "\n",
    "# list of case IDs\n",
    "cases = df_cases[\"CaseID\"].tolist()\n",
    "# list of session IDs\n",
    "sessions = df_sessions[\"SessionID\"].tolist()\n",
    "# all possible combinations of cases and sessions\n",
    "tasks = list(product(cases, sessions))\n",
    "# expected duration for each operation\n",
    "case_duration = pd.Series(df_cases[\"Expected Duration\"].values, index=df_cases[\"CaseID\"]).to_dict()\n",
    "# duration of each OR room availability\n",
    "session_duration = pd.Series(df_sessions[\"Duration\"].values, index=df_sessions[\"SessionID\"]).to_dict()\n",
    "# session start times\n",
    "df_sessions.loc[:, \"Start\"] = pd.to_timedelta(df_sessions[\"Start\"])\n",
    "df_sessions.loc[:, \"Start\"] = df_sessions[\"Start\"].dt.total_seconds() / 60\n",
    "session_start_time = pd.Series(df_sessions[\"Start\"].values, index=df_sessions[\"SessionID\"]).to_dict()\n",
    "# case deadline\n",
    "df_cases.loc[:, \"TargetDeadline\"] = pd.to_datetime(df_cases[\"TargetDeadline\"], format=\"%d/%m/%Y\")\n",
    "df_cases.loc[:, \"TargetDeadline\"] = df_cases[\"TargetDeadline\"].apply(lambda date: date.toordinal()) # Gregorian ordinal for the given DateTime object.\n",
    "case_deadlines = pd.Series(df_cases[\"TargetDeadline\"].values, index=df_cases[\"CaseID\"]).to_dict()\n",
    "# Session dates\n",
    "df_sessions.loc[:, \"Date\"] = pd.to_datetime(df_sessions[\"Date\"], format=\"%d/%m/%Y\")\n",
    "df_sessions.loc[:, \"Date\"] = df_sessions[\"Date\"].apply(lambda date: date.toordinal()) # Gregorian ordinal for the given DateTime object.\n",
    "session_dates = pd.Series(df_sessions[\"Date\"].values, index=df_sessions[\"SessionID\"]).to_dict()"
   ]
  },
  {
   "cell_type": "code",
   "execution_count": 48,
   "id": "80e3366e",
   "metadata": {},
   "outputs": [],
   "source": [
    "model = LpProblem(\"MaximizeUtilizationTime\", LpMaximize) #spaces not permitted on name"
   ]
  },
  {
   "cell_type": "code",
   "execution_count": 49,
   "id": "91f71d28",
   "metadata": {},
   "outputs": [],
   "source": [
    "#big M\n",
    "M = 900000000\n",
    "\n",
    "# Upper bound (minutes in a day)\n",
    "ub = 1440 # q1\n",
    "\n",
    "# Upper bound of session utilization set to 85%\n",
    "max_util = 0.9 #q2 (we could change this?)\n",
    "\n",
    "# Binary flag, 1 if case is assigned to session, 0 o/w\n",
    "A = LpVariable('session_assigned', cat='Binary')\n",
    "\n",
    "# Start time of case\n",
    "#B = LpVariable.dicts(\"case_start_time\", ((i, j) for i in I for j in J), lowBound = 0, cat = 'Continuous')\n",
    "B = LpVariable('case_start_time', lowBound=0, upBound=ub)\n",
    "\n",
    "# Session utilization\n",
    "C = LpVariable('utilization', lowBound=0, upBound=max_util)"
   ]
  },
  {
   "cell_type": "code",
   "execution_count": 50,
   "id": "fb9eee67",
   "metadata": {},
   "outputs": [],
   "source": [
    "obj_func = lpSum(C)\n",
    "model += obj_func"
   ]
  },
  {
   "cell_type": "code",
   "execution_count": 51,
   "id": "11456e9f",
   "metadata": {},
   "outputs": [],
   "source": [
    "# The start time of a case must be after the start time of the session it is assigned to\n",
    "# should only be valid for the session assigned to the case, not for the rest of the sessions\n",
    "#c1 = session_start_time - (1 - A)*M <= B\n",
    "\n",
    "for i in session_start_time:\n",
    "    model += B <= i - (1 - A)*M\n",
    "#c2 = session_start_time + session_duration + (1 - A)*M >= B + case_duration\n",
    "#c3 = "
   ]
  },
  {
   "cell_type": "code",
   "execution_count": 52,
   "id": "8335fd28",
   "metadata": {},
   "outputs": [
    {
     "data": {
      "text/plain": [
       "MaximizeUtilizationTime:\n",
       "MAXIMIZE\n",
       "1*utilization + 0\n",
       "SUBJECT TO\n",
       "_C1: case_start_time - 900000000 session_assigned <= -899998999\n",
       "\n",
       "_C2: case_start_time - 900000000 session_assigned <= -899998998\n",
       "\n",
       "_C3: case_start_time - 900000000 session_assigned <= -899998997\n",
       "\n",
       "_C4: case_start_time - 900000000 session_assigned <= -899998996\n",
       "\n",
       "VARIABLES\n",
       "case_start_time <= 1440 Continuous\n",
       "0 <= session_assigned <= 1 Integer\n",
       "utilization <= 0.9 Continuous"
      ]
     },
     "execution_count": 52,
     "metadata": {},
     "output_type": "execute_result"
    }
   ],
   "source": [
    "model"
   ]
  },
  {
   "cell_type": "code",
   "execution_count": 53,
   "id": "774b5551",
   "metadata": {},
   "outputs": [],
   "source": [
    "df = pd.read_csv('sessions.csv')"
   ]
  },
  {
   "cell_type": "code",
   "execution_count": 54,
   "id": "e7b2935f",
   "metadata": {},
   "outputs": [
    {
     "data": {
      "text/html": [
       "<div>\n",
       "<style scoped>\n",
       "    .dataframe tbody tr th:only-of-type {\n",
       "        vertical-align: middle;\n",
       "    }\n",
       "\n",
       "    .dataframe tbody tr th {\n",
       "        vertical-align: top;\n",
       "    }\n",
       "\n",
       "    .dataframe thead th {\n",
       "        text-align: right;\n",
       "    }\n",
       "</style>\n",
       "<table border=\"1\" class=\"dataframe\">\n",
       "  <thead>\n",
       "    <tr style=\"text-align: right;\">\n",
       "      <th></th>\n",
       "      <th>SessionID</th>\n",
       "      <th>Date</th>\n",
       "      <th>Start</th>\n",
       "      <th>End</th>\n",
       "      <th>Duration</th>\n",
       "      <th>ConsultantID</th>\n",
       "      <th>Specialty</th>\n",
       "    </tr>\n",
       "  </thead>\n",
       "  <tbody>\n",
       "    <tr>\n",
       "      <th>0</th>\n",
       "      <td>1001</td>\n",
       "      <td>03/06/2020</td>\n",
       "      <td>08:30:00</td>\n",
       "      <td>18:00:00</td>\n",
       "      <td>570</td>\n",
       "      <td>11</td>\n",
       "      <td>Ophthalmology</td>\n",
       "    </tr>\n",
       "    <tr>\n",
       "      <th>1</th>\n",
       "      <td>1002</td>\n",
       "      <td>10/06/2020</td>\n",
       "      <td>08:30:00</td>\n",
       "      <td>18:00:00</td>\n",
       "      <td>570</td>\n",
       "      <td>11</td>\n",
       "      <td>Ophthalmology</td>\n",
       "    </tr>\n",
       "    <tr>\n",
       "      <th>2</th>\n",
       "      <td>1003</td>\n",
       "      <td>17/06/2020</td>\n",
       "      <td>08:30:00</td>\n",
       "      <td>18:00:00</td>\n",
       "      <td>570</td>\n",
       "      <td>11</td>\n",
       "      <td>Ophthalmology</td>\n",
       "    </tr>\n",
       "    <tr>\n",
       "      <th>3</th>\n",
       "      <td>1004</td>\n",
       "      <td>25/06/2020</td>\n",
       "      <td>08:30:00</td>\n",
       "      <td>13:00:00</td>\n",
       "      <td>270</td>\n",
       "      <td>11</td>\n",
       "      <td>Ophthalmology</td>\n",
       "    </tr>\n",
       "  </tbody>\n",
       "</table>\n",
       "</div>"
      ],
      "text/plain": [
       "   SessionID        Date     Start       End  Duration  ConsultantID  \\\n",
       "0       1001  03/06/2020  08:30:00  18:00:00       570            11   \n",
       "1       1002  10/06/2020  08:30:00  18:00:00       570            11   \n",
       "2       1003  17/06/2020  08:30:00  18:00:00       570            11   \n",
       "3       1004  25/06/2020  08:30:00  13:00:00       270            11   \n",
       "\n",
       "       Specialty  \n",
       "0  Ophthalmology  \n",
       "1  Ophthalmology  \n",
       "2  Ophthalmology  \n",
       "3  Ophthalmology  "
      ]
     },
     "execution_count": 54,
     "metadata": {},
     "output_type": "execute_result"
    }
   ],
   "source": [
    "df.head()"
   ]
  },
  {
   "cell_type": "code",
   "execution_count": null,
   "id": "411cbccd",
   "metadata": {},
   "outputs": [],
   "source": []
  }
 ],
 "metadata": {
  "kernelspec": {
   "display_name": "Python 3",
   "language": "python",
   "name": "python3"
  },
  "language_info": {
   "codemirror_mode": {
    "name": "ipython",
    "version": 3
   },
   "file_extension": ".py",
   "mimetype": "text/x-python",
   "name": "python",
   "nbconvert_exporter": "python",
   "pygments_lexer": "ipython3",
   "version": "3.8.8"
  }
 },
 "nbformat": 4,
 "nbformat_minor": 5
}
