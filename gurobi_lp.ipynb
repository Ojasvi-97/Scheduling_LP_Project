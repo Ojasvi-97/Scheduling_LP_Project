{
 "cells": [
  {
   "cell_type": "code",
   "execution_count": 110,
   "id": "8a62b776",
   "metadata": {},
   "outputs": [],
   "source": [
    "import gurobipy as gp\n",
    "from gurobipy import GRB\n",
    "import pandas as pd\n",
    "from itertools import product\n",
    "import matplotlib.pyplot as plt\n",
    "import matplotlib.cm as cm"
   ]
  },
  {
   "cell_type": "code",
   "execution_count": 111,
   "id": "95d98ecc",
   "metadata": {},
   "outputs": [],
   "source": [
    "df_surgeries = pd.read_csv(\"surgeries.csv\")\n",
    "df_spaces = pd.read_csv(\"ORspaces.csv\")"
   ]
  },
  {
   "cell_type": "code",
   "execution_count": 112,
   "id": "908b798e",
   "metadata": {},
   "outputs": [],
   "source": [
    "# Model data\n",
    "\n",
    "# list of surgery IDs\n",
    "surgeries = df_surgeries[\"CaseID\"].tolist()\n",
    "# list of OR spaces IDs\n",
    "spaces = df_spaces[\"SessionID\"].tolist()\n",
    "# all possible combinations of surgeries and spaces\n",
    "tasks = gp.tuplelist(list(product(surgeries, spaces)))\n",
    "# expected duration for each surgery\n",
    "surgery_duration = pd.Series(df_surgeries[\"Expected Duration\"].values, index=df_surgeries[\"CaseID\"]).to_dict()\n",
    "# duration of each OR space\n",
    "space_duration = pd.Series(df_spaces[\"Duration\"].values, index=df_spaces[\"SessionID\"]).to_dict()\n",
    "# space start times\n",
    "df_spaces.loc[:, \"Start\"] = pd.to_timedelta(df_spaces[\"Start\"])\n",
    "df_spaces.loc[:, \"Start\"] = df_spaces[\"Start\"].dt.total_seconds() / 60\n",
    "space_start_time = pd.Series(df_spaces[\"Start\"].values.round(2), index=df_spaces[\"SessionID\"]).to_dict()\n",
    "# surgery deadlines\n",
    "df_surgeries.loc[:, \"TargetDeadline\"] = pd.to_datetime(df_surgeries[\"TargetDeadline\"], format=\"%d/%m/%Y\")\n",
    "df_surgeries.loc[:, \"TargetDeadline\"] = df_surgeries[\"TargetDeadline\"].apply(lambda date: date.toordinal()) # Gregorian ordinal for the given DateTime object.\n",
    "surgery_deadlines = pd.Series(df_surgeries[\"TargetDeadline\"].values, index=df_surgeries[\"CaseID\"]).to_dict()\n",
    "# Spaces dates\n",
    "df_spaces.loc[:, \"Date\"] = pd.to_datetime(df_spaces[\"Date\"], format=\"%d/%m/%Y\")\n",
    "df_spaces.loc[:, \"Date\"] = df_spaces[\"Date\"].apply(lambda date: date.toordinal()) # Gregorian ordinal for the given DateTime object.\n",
    "space_dates = pd.Series(df_spaces[\"Date\"].values, index=df_spaces[\"SessionID\"]).to_dict()\n",
    "\n",
    "# surgery-surgery-OR space combinations\n",
    "disjunctions = []\n",
    "for (surgery1, surgery2, space) in product(surgeries, surgeries, spaces):\n",
    "    if (surgery1 != surgery2) and (surgery2, surgery1, space) not in disjunctions:\n",
    "        disjunctions.append((surgery1, surgery2, space))\n",
    "disjunctions = gp.tuplelist(disjunctions)"
   ]
  },
  {
   "cell_type": "code",
   "execution_count": 113,
   "id": "f080ed25",
   "metadata": {},
   "outputs": [
    {
     "name": "stdout",
     "output_type": "stream",
     "text": [
      "Set parameter TimeLimit to value 300\n"
     ]
    }
   ],
   "source": [
    "#big M\n",
    "M = 9000\n",
    "\n",
    "# upper bound (minutes in a day)\n",
    "upbound = 1440\n",
    "\n",
    "# upper bound of session utilization set to 90%\n",
    "max_util = 0.9 # * total OR availability = 1782\n",
    "\n",
    "# create model\n",
    "model = gp.Model(\"OR Utilization\")\n",
    "model.setParam('TimeLimit', 5*60)\n",
    "\n",
    "# create decision variables\n",
    "A = model.addVars(tasks, name=\"session_assigned\", vtype=GRB.BINARY)\n",
    "\n",
    "B = model.addVars(surgeries, name=\"surgery_start_time\", lb=0, ub=upbound)\n",
    "\n",
    "C = model.addVars(spaces, name=\"utilization\", lb=0, ub=len(surgeries))\n",
    "\n",
    "D = model.addVars(disjunctions, name=\"no_overlap\", vtype=GRB.BINARY)\n",
    "\n",
    "# set objective\n",
    "model.setObjective(C.sum(), GRB.MAXIMIZE)"
   ]
  },
  {
   "cell_type": "code",
   "execution_count": 103,
   "id": "b6754969",
   "metadata": {},
   "outputs": [
    {
     "data": {
      "text/plain": [
       "{1001: <gurobi.Constr *Awaiting Model Update*>,\n",
       " 1002: <gurobi.Constr *Awaiting Model Update*>,\n",
       " 1003: <gurobi.Constr *Awaiting Model Update*>,\n",
       " 1004: <gurobi.Constr *Awaiting Model Update*>}"
      ]
     },
     "execution_count": 103,
     "metadata": {},
     "output_type": "execute_result"
    }
   ],
   "source": [
    "# constraint 1: start time of a surgery must be after the start time of the OR space it is assigned to\n",
    "model.addConstrs((B[c] >= space_start_time[s] - (1 - A[(c,s)])*M for c,s in tasks), name=\"c1\")\n",
    "\n",
    "# constraint 2: surgery end time must be before end time of OR space\n",
    "model.addConstrs((B[c] + surgery_duration[c] <= space_start_time[s] + space_duration[s]*max_util + \n",
    "                  (1-A[(c,s)])*M for c,s in tasks), name=\"c2\")\n",
    "\n",
    "# constraint 3: only one OR space per surgery (surgery entries need to be scheduled only once)\n",
    "for c in surgeries:\n",
    "    model.addConstr((sum(A[(c,s)] for s in spaces) <= 1), \"c3\")\n",
    "    \n",
    "# constraint 4: surgeries have to be performed before their deadline\n",
    "model.addConstrs((space_dates[s] <= surgery_deadlines[c] + (1-A[(c,s)])*M for c,s in tasks), name=\"c4\")\n",
    "\n",
    "#constraint 5: surgeries can't overlap for the same OR space\n",
    "\n",
    "\"\"\"\n",
    "Ex:\n",
    "\n",
    "OR availability: {start}||||||||||------surg1------||\n",
    "                        ||||||||||                 || surg2---||{end}\n",
    "                        \n",
    "CanNOT be:\n",
    "OR availability: {start}||||||||||------surg1------             ||\n",
    "                        ||||||||||           ----5min + surg2---||{end}\n",
    "\n",
    "                                        ^OVERLAP ABOVE^\n",
    "                                        \n",
    " x1 = surgery1 start time\n",
    " t1 = surgery1 duration\n",
    " x2 = surgery2 start time\n",
    " t2 = surgery2 duration\n",
    " y = {0,1}\n",
    " \n",
    " Either (x1 + t1 <= x2) or (x2 + t2 <= x1)\n",
    " \n",
    " If x1 + t1 > x2 then y = 1 and if y = 1 then x2 + t2 <= x1\n",
    " If y = 0 then x1 + t1 <= x2\n",
    " \n",
    "                                        \n",
    "\"\"\"\n",
    "for surg1, surg2, s in disjunctions:\n",
    "    model.addConstr(B[surg1] + surgery_duration[surg1] <= (B[surg2] + ((2 - A[(surg1,s)] - A[(surg2,s)])*M)) + D[(surg1,surg2,s)]*M, name=\"c5\")\n",
    "    model.addConstr(B[surg2] + surgery_duration[surg2] <= (B[surg1] + ((2 - A[(surg1,s)] - A[(surg2,s)])*M)) - (1-D[(surg1,surg2,s)])*M, name=\"c6\")\n",
    "    model.addConstr((D[(surg1,surg2,s)] == 1) >> (B[surg1] + surgery_duration[surg1] >= B[surg2] ), name=\"c7\")\n",
    "    model.addConstr((D[surg1,surg2,s] == 0) >> (B[surg1] + surgery_duration[surg1] <= B[surg2] ), name=\"c8\")\n",
    "\n",
    "# constraint 6: linking utilization to # of surgeries assigned\n",
    "model.addConstrs((C[s] == sum(A[c,s] for c in surgeries) for s in spaces), name=\"c9\")"
   ]
  },
  {
   "cell_type": "code",
   "execution_count": 104,
   "id": "d056a0c5",
   "metadata": {},
   "outputs": [
    {
     "name": "stdout",
     "output_type": "stream",
     "text": [
      "Gurobi Optimizer version 9.5.1 build v9.5.1rc2 (mac64[rosetta2])\n",
      "Thread count: 10 physical cores, 10 logical processors, using up to 10 threads\n",
      "Optimize a model with 3874 rows, 1894 columns and 18244 nonzeros\n",
      "Model fingerprint: 0x71bc428d\n",
      "Model has 3480 general constraints\n",
      "Variable types: 34 continuous, 1860 integer (1860 binary)\n",
      "Coefficient statistics:\n",
      "  Matrix range     [1e+00, 9e+03]\n",
      "  Objective range  [1e+00, 1e+00]\n",
      "  Bounds range     [1e+00, 1e+03]\n",
      "  RHS range        [1e+00, 2e+04]\n",
      "  GenCon rhs range [3e+01, 1e+02]\n",
      "  GenCon coe range [1e+00, 1e+00]\n",
      "Found heuristic solution: objective -0.0000000\n",
      "Presolve added 2768 rows and 0 columns\n",
      "Presolve removed 0 rows and 18 columns\n",
      "Presolve time: 0.07s\n",
      "Presolved: 6642 rows, 1876 columns, 25844 nonzeros\n",
      "Variable types: 30 continuous, 1846 integer (1846 binary)\n",
      "Found heuristic solution: objective 2.0000000\n",
      "\n",
      "Root relaxation: objective 3.000000e+01, 488 iterations, 0.01 seconds (0.02 work units)\n",
      "\n",
      "    Nodes    |    Current Node    |     Objective Bounds      |     Work\n",
      " Expl Unexpl |  Obj  Depth IntInf | Incumbent    BestBd   Gap | It/Node Time\n",
      "\n",
      "     0     0   30.00000    0    4    2.00000   30.00000  1400%     -    0s\n",
      "H    0     0                      28.0000000   30.00000  7.14%     -    0s\n",
      "H    0     0                      29.0000000   30.00000  3.45%     -    0s\n",
      "     0     0   30.00000    0    4   29.00000   30.00000  3.45%     -    0s\n",
      "     0     0   30.00000    0    4   29.00000   30.00000  3.45%     -    0s\n",
      "     0     0   30.00000    0    7   29.00000   30.00000  3.45%     -    0s\n",
      "     0     0   30.00000    0    8   29.00000   30.00000  3.45%     -    0s\n",
      "     0     0   30.00000    0    6   29.00000   30.00000  3.45%     -    0s\n",
      "     0     0   30.00000    0    6   29.00000   30.00000  3.45%     -    0s\n",
      "     0     0   30.00000    0    6   29.00000   30.00000  3.45%     -    0s\n",
      "     0     0   30.00000    0    6   29.00000   30.00000  3.45%     -    0s\n",
      "     0     2   30.00000    0    6   29.00000   30.00000  3.45%     -    0s\n",
      "H    4     3                      30.0000000   30.00000  0.00%   0.0    1s\n",
      "\n",
      "Cutting planes:\n",
      "  Gomory: 1\n",
      "\n",
      "Explored 4 nodes (1386 simplex iterations) in 1.07 seconds (1.16 work units)\n",
      "Thread count was 10 (of 10 available processors)\n",
      "\n",
      "Solution count 5: 30 29 28 ... -0\n",
      "\n",
      "Optimal solution found (tolerance 1.00e-04)\n",
      "Best objective 3.000000000000e+01, best bound 3.000000000000e+01, gap 0.0000%\n"
     ]
    }
   ],
   "source": [
    "#model.display()\n",
    "model.optimize()\n",
    "#for v in model.getVars():\n",
    "#    print(v.varName, v.x)"
   ]
  },
  {
   "cell_type": "code",
   "execution_count": 105,
   "id": "acf53bf9",
   "metadata": {},
   "outputs": [
    {
     "data": {
      "text/plain": [
       "30.0"
      ]
     },
     "execution_count": 105,
     "metadata": {},
     "output_type": "execute_result"
    }
   ],
   "source": [
    "model.objVal"
   ]
  },
  {
   "cell_type": "code",
   "execution_count": 108,
   "id": "e1210200",
   "metadata": {},
   "outputs": [
    {
     "name": "stderr",
     "output_type": "stream",
     "text": [
      "/Users/emanuelhernandez/anaconda3/lib/python3.8/site-packages/numpy/core/_asarray.py:136: VisibleDeprecationWarning: Creating an ndarray from ragged nested sequences (which is a list-or-tuple of lists-or-tuples-or ndarrays with different lengths or shapes) is deprecated. If you meant to do this, you must specify 'dtype=object' when creating the ndarray\n",
      "  return array(a, dtype, copy=False, order=order, subok=True)\n",
      "/Users/emanuelhernandez/anaconda3/lib/python3.8/site-packages/numpy/core/_asarray.py:136: VisibleDeprecationWarning: Creating an ndarray from ragged nested sequences (which is a list-or-tuple of lists-or-tuples-or ndarrays with different lengths or shapes) is deprecated. If you meant to do this, you must specify 'dtype=object' when creating the ndarray\n",
      "  return array(a, dtype, copy=False, order=order, subok=True)\n",
      "/Users/emanuelhernandez/anaconda3/lib/python3.8/site-packages/numpy/core/_asarray.py:136: VisibleDeprecationWarning: Creating an ndarray from ragged nested sequences (which is a list-or-tuple of lists-or-tuples-or ndarrays with different lengths or shapes) is deprecated. If you meant to do this, you must specify 'dtype=object' when creating the ndarray\n",
      "  return array(a, dtype, copy=False, order=order, subok=True)\n",
      "/Users/emanuelhernandez/anaconda3/lib/python3.8/site-packages/numpy/core/_asarray.py:136: VisibleDeprecationWarning: Creating an ndarray from ragged nested sequences (which is a list-or-tuple of lists-or-tuples-or ndarrays with different lengths or shapes) is deprecated. If you meant to do this, you must specify 'dtype=object' when creating the ndarray\n",
      "  return array(a, dtype, copy=False, order=order, subok=True)\n",
      "/Users/emanuelhernandez/anaconda3/lib/python3.8/site-packages/numpy/core/_asarray.py:136: VisibleDeprecationWarning: Creating an ndarray from ragged nested sequences (which is a list-or-tuple of lists-or-tuples-or ndarrays with different lengths or shapes) is deprecated. If you meant to do this, you must specify 'dtype=object' when creating the ndarray\n",
      "  return array(a, dtype, copy=False, order=order, subok=True)\n",
      "/Users/emanuelhernandez/anaconda3/lib/python3.8/site-packages/numpy/core/_asarray.py:136: VisibleDeprecationWarning: Creating an ndarray from ragged nested sequences (which is a list-or-tuple of lists-or-tuples-or ndarrays with different lengths or shapes) is deprecated. If you meant to do this, you must specify 'dtype=object' when creating the ndarray\n",
      "  return array(a, dtype, copy=False, order=order, subok=True)\n",
      "/Users/emanuelhernandez/anaconda3/lib/python3.8/site-packages/numpy/core/_asarray.py:136: VisibleDeprecationWarning: Creating an ndarray from ragged nested sequences (which is a list-or-tuple of lists-or-tuples-or ndarrays with different lengths or shapes) is deprecated. If you meant to do this, you must specify 'dtype=object' when creating the ndarray\n",
      "  return array(a, dtype, copy=False, order=order, subok=True)\n",
      "/Users/emanuelhernandez/anaconda3/lib/python3.8/site-packages/numpy/core/_asarray.py:136: VisibleDeprecationWarning: Creating an ndarray from ragged nested sequences (which is a list-or-tuple of lists-or-tuples-or ndarrays with different lengths or shapes) is deprecated. If you meant to do this, you must specify 'dtype=object' when creating the ndarray\n",
      "  return array(a, dtype, copy=False, order=order, subok=True)\n",
      "/Users/emanuelhernandez/anaconda3/lib/python3.8/site-packages/numpy/core/_asarray.py:136: VisibleDeprecationWarning: Creating an ndarray from ragged nested sequences (which is a list-or-tuple of lists-or-tuples-or ndarrays with different lengths or shapes) is deprecated. If you meant to do this, you must specify 'dtype=object' when creating the ndarray\n",
      "  return array(a, dtype, copy=False, order=order, subok=True)\n",
      "/Users/emanuelhernandez/anaconda3/lib/python3.8/site-packages/numpy/core/_asarray.py:136: VisibleDeprecationWarning: Creating an ndarray from ragged nested sequences (which is a list-or-tuple of lists-or-tuples-or ndarrays with different lengths or shapes) is deprecated. If you meant to do this, you must specify 'dtype=object' when creating the ndarray\n",
      "  return array(a, dtype, copy=False, order=order, subok=True)\n",
      "/Users/emanuelhernandez/anaconda3/lib/python3.8/site-packages/numpy/core/_asarray.py:136: VisibleDeprecationWarning: Creating an ndarray from ragged nested sequences (which is a list-or-tuple of lists-or-tuples-or ndarrays with different lengths or shapes) is deprecated. If you meant to do this, you must specify 'dtype=object' when creating the ndarray\n",
      "  return array(a, dtype, copy=False, order=order, subok=True)\n",
      "/Users/emanuelhernandez/anaconda3/lib/python3.8/site-packages/numpy/core/_asarray.py:136: VisibleDeprecationWarning: Creating an ndarray from ragged nested sequences (which is a list-or-tuple of lists-or-tuples-or ndarrays with different lengths or shapes) is deprecated. If you meant to do this, you must specify 'dtype=object' when creating the ndarray\n",
      "  return array(a, dtype, copy=False, order=order, subok=True)\n",
      "/Users/emanuelhernandez/anaconda3/lib/python3.8/site-packages/numpy/core/_asarray.py:136: VisibleDeprecationWarning: Creating an ndarray from ragged nested sequences (which is a list-or-tuple of lists-or-tuples-or ndarrays with different lengths or shapes) is deprecated. If you meant to do this, you must specify 'dtype=object' when creating the ndarray\n",
      "  return array(a, dtype, copy=False, order=order, subok=True)\n",
      "/Users/emanuelhernandez/anaconda3/lib/python3.8/site-packages/numpy/core/_asarray.py:136: VisibleDeprecationWarning: Creating an ndarray from ragged nested sequences (which is a list-or-tuple of lists-or-tuples-or ndarrays with different lengths or shapes) is deprecated. If you meant to do this, you must specify 'dtype=object' when creating the ndarray\n",
      "  return array(a, dtype, copy=False, order=order, subok=True)\n",
      "/Users/emanuelhernandez/anaconda3/lib/python3.8/site-packages/numpy/core/_asarray.py:136: VisibleDeprecationWarning: Creating an ndarray from ragged nested sequences (which is a list-or-tuple of lists-or-tuples-or ndarrays with different lengths or shapes) is deprecated. If you meant to do this, you must specify 'dtype=object' when creating the ndarray\n",
      "  return array(a, dtype, copy=False, order=order, subok=True)\n",
      "/Users/emanuelhernandez/anaconda3/lib/python3.8/site-packages/numpy/core/_asarray.py:136: VisibleDeprecationWarning: Creating an ndarray from ragged nested sequences (which is a list-or-tuple of lists-or-tuples-or ndarrays with different lengths or shapes) is deprecated. If you meant to do this, you must specify 'dtype=object' when creating the ndarray\n",
      "  return array(a, dtype, copy=False, order=order, subok=True)\n",
      "/Users/emanuelhernandez/anaconda3/lib/python3.8/site-packages/numpy/core/_asarray.py:136: VisibleDeprecationWarning: Creating an ndarray from ragged nested sequences (which is a list-or-tuple of lists-or-tuples-or ndarrays with different lengths or shapes) is deprecated. If you meant to do this, you must specify 'dtype=object' when creating the ndarray\n",
      "  return array(a, dtype, copy=False, order=order, subok=True)\n",
      "/Users/emanuelhernandez/anaconda3/lib/python3.8/site-packages/numpy/core/_asarray.py:136: VisibleDeprecationWarning: Creating an ndarray from ragged nested sequences (which is a list-or-tuple of lists-or-tuples-or ndarrays with different lengths or shapes) is deprecated. If you meant to do this, you must specify 'dtype=object' when creating the ndarray\n",
      "  return array(a, dtype, copy=False, order=order, subok=True)\n",
      "/Users/emanuelhernandez/anaconda3/lib/python3.8/site-packages/numpy/core/_asarray.py:136: VisibleDeprecationWarning: Creating an ndarray from ragged nested sequences (which is a list-or-tuple of lists-or-tuples-or ndarrays with different lengths or shapes) is deprecated. If you meant to do this, you must specify 'dtype=object' when creating the ndarray\n",
      "  return array(a, dtype, copy=False, order=order, subok=True)\n",
      "/Users/emanuelhernandez/anaconda3/lib/python3.8/site-packages/numpy/core/_asarray.py:136: VisibleDeprecationWarning: Creating an ndarray from ragged nested sequences (which is a list-or-tuple of lists-or-tuples-or ndarrays with different lengths or shapes) is deprecated. If you meant to do this, you must specify 'dtype=object' when creating the ndarray\n",
      "  return array(a, dtype, copy=False, order=order, subok=True)\n",
      "/Users/emanuelhernandez/anaconda3/lib/python3.8/site-packages/numpy/core/_asarray.py:136: VisibleDeprecationWarning: Creating an ndarray from ragged nested sequences (which is a list-or-tuple of lists-or-tuples-or ndarrays with different lengths or shapes) is deprecated. If you meant to do this, you must specify 'dtype=object' when creating the ndarray\n",
      "  return array(a, dtype, copy=False, order=order, subok=True)\n",
      "/Users/emanuelhernandez/anaconda3/lib/python3.8/site-packages/numpy/core/_asarray.py:136: VisibleDeprecationWarning: Creating an ndarray from ragged nested sequences (which is a list-or-tuple of lists-or-tuples-or ndarrays with different lengths or shapes) is deprecated. If you meant to do this, you must specify 'dtype=object' when creating the ndarray\n",
      "  return array(a, dtype, copy=False, order=order, subok=True)\n",
      "/Users/emanuelhernandez/anaconda3/lib/python3.8/site-packages/numpy/core/_asarray.py:136: VisibleDeprecationWarning: Creating an ndarray from ragged nested sequences (which is a list-or-tuple of lists-or-tuples-or ndarrays with different lengths or shapes) is deprecated. If you meant to do this, you must specify 'dtype=object' when creating the ndarray\n",
      "  return array(a, dtype, copy=False, order=order, subok=True)\n",
      "/Users/emanuelhernandez/anaconda3/lib/python3.8/site-packages/numpy/core/_asarray.py:136: VisibleDeprecationWarning: Creating an ndarray from ragged nested sequences (which is a list-or-tuple of lists-or-tuples-or ndarrays with different lengths or shapes) is deprecated. If you meant to do this, you must specify 'dtype=object' when creating the ndarray\n",
      "  return array(a, dtype, copy=False, order=order, subok=True)\n",
      "/Users/emanuelhernandez/anaconda3/lib/python3.8/site-packages/numpy/core/_asarray.py:136: VisibleDeprecationWarning: Creating an ndarray from ragged nested sequences (which is a list-or-tuple of lists-or-tuples-or ndarrays with different lengths or shapes) is deprecated. If you meant to do this, you must specify 'dtype=object' when creating the ndarray\n",
      "  return array(a, dtype, copy=False, order=order, subok=True)\n",
      "/Users/emanuelhernandez/anaconda3/lib/python3.8/site-packages/numpy/core/_asarray.py:136: VisibleDeprecationWarning: Creating an ndarray from ragged nested sequences (which is a list-or-tuple of lists-or-tuples-or ndarrays with different lengths or shapes) is deprecated. If you meant to do this, you must specify 'dtype=object' when creating the ndarray\n",
      "  return array(a, dtype, copy=False, order=order, subok=True)\n",
      "/Users/emanuelhernandez/anaconda3/lib/python3.8/site-packages/numpy/core/_asarray.py:136: VisibleDeprecationWarning: Creating an ndarray from ragged nested sequences (which is a list-or-tuple of lists-or-tuples-or ndarrays with different lengths or shapes) is deprecated. If you meant to do this, you must specify 'dtype=object' when creating the ndarray\n",
      "  return array(a, dtype, copy=False, order=order, subok=True)\n",
      "/Users/emanuelhernandez/anaconda3/lib/python3.8/site-packages/numpy/core/_asarray.py:136: VisibleDeprecationWarning: Creating an ndarray from ragged nested sequences (which is a list-or-tuple of lists-or-tuples-or ndarrays with different lengths or shapes) is deprecated. If you meant to do this, you must specify 'dtype=object' when creating the ndarray\n",
      "  return array(a, dtype, copy=False, order=order, subok=True)\n",
      "/Users/emanuelhernandez/anaconda3/lib/python3.8/site-packages/numpy/core/_asarray.py:136: VisibleDeprecationWarning: Creating an ndarray from ragged nested sequences (which is a list-or-tuple of lists-or-tuples-or ndarrays with different lengths or shapes) is deprecated. If you meant to do this, you must specify 'dtype=object' when creating the ndarray\n",
      "  return array(a, dtype, copy=False, order=order, subok=True)\n",
      "/Users/emanuelhernandez/anaconda3/lib/python3.8/site-packages/numpy/core/_asarray.py:136: VisibleDeprecationWarning: Creating an ndarray from ragged nested sequences (which is a list-or-tuple of lists-or-tuples-or ndarrays with different lengths or shapes) is deprecated. If you meant to do this, you must specify 'dtype=object' when creating the ndarray\n",
      "  return array(a, dtype, copy=False, order=order, subok=True)\n"
     ]
    },
    {
     "data": {
      "image/png": "[encoded data removed]",
      "text/plain": [
       "<Figure size 432x288 with 1 Axes>"
      ]
     },
     "metadata": {
      "needs_background": "light"
     },
     "output_type": "display_data"
    }
   ],
   "source": [
    "results = [{\"Surgery\": c,\n",
    "            \"Space\": s,\n",
    "            \"Space Date\": space_dates[s],\n",
    "            \"Case Deadline\": surgery_deadlines[c],\n",
    "            \"Days before deadline\": surgery_deadlines[c] - space_dates[s],\n",
    "            \"Start\": B[c].x,\n",
    "            \"Assignment\": A[c, s].x}\n",
    "           for (c, s) in tasks]\n",
    "\n",
    "df_times = pd.DataFrame(results)\n",
    "\n",
    "df = df_times[df_times[\"Assignment\"] == 1]\n",
    "surgeries = sorted(list(df['Surgery'].unique()))\n",
    "spaces = sorted(list(df['Space'].unique()))\n",
    "\n",
    "bar_style = {'alpha': 1.0, 'lw': 25, 'solid_capstyle': 'butt'}\n",
    "text_style = {'color': 'white', 'weight': 'bold', 'ha': 'center', 'va': 'center'}\n",
    "colors = cm.Dark2.colors\n",
    "\n",
    "df.sort_values(by=['Case', 'Session'])\n",
    "df.set_index(['Case', 'Session'], inplace=True)\n",
    "\n",
    "fig, ax = plt.subplots(1, 1)\n",
    "for c_ix, c in enumerate(surgeries, 1):\n",
    "    for s_ix, s in enumerate(spaces, 1):\n",
    "        if (c, s) in df.index:\n",
    "            xs = df.loc[(c, s), 'Start']\n",
    "            xf = df.loc[(c, s), 'Start'] + \\\n",
    "                 df_surgeries[df_cases[\"CaseID\"] == c][\"Expected Duration\"]\n",
    "            ax.plot([xs, xf], [s] * 2, c=colors[c_ix % 7], **bar_style)\n",
    "            ax.text((xs + xf) / 2, s, c, **text_style)\n",
    "\n",
    "ax.set_title('Assigning Surgeries to OR spaces')\n",
    "ax.set_xlabel('Time (in minutes)')\n",
    "ax.set_ylabel('OR available spaces')\n",
    "ax.grid(True)\n",
    "\n",
    "fig.tight_layout()\n",
    "plt.show()"
   ]
  },
  {
   "cell_type": "code",
   "execution_count": null,
   "id": "7721dc4b",
   "metadata": {},
   "outputs": [],
   "source": []
  }
 ],
 "metadata": {
  "kernelspec": {
   "display_name": "Python 3",
   "language": "python",
   "name": "python3"
  },
  "language_info": {
   "codemirror_mode": {
    "name": "ipython",
    "version": 3
   },
   "file_extension": ".py",
   "mimetype": "text/x-python",
   "name": "python",
   "nbconvert_exporter": "python",
   "pygments_lexer": "ipython3",
   "version": "3.8.8"
  }
 },
 "nbformat": 4,
 "nbformat_minor": 5
}
